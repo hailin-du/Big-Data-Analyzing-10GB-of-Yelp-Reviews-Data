{
 "cells": [
  {
   "cell_type": "markdown",
   "metadata": {},
   "source": [
    "# Analysis of Yelp Business Intelligence Data\n",
    "\n",
    "We will analyze a subset of Yelp's business, reviews and user data. This dataset comes to us from Kaggle although we have taken steps to pull this data into a publis s3 bucket: s3://sta9760-project2-datasets/yelp-light/yelp_academic_dataset_business.json (s3://Your_S3_file_location/file_name)"
   ]
  },
  {
   "cell_type": "code",
   "execution_count": 1,
   "metadata": {},
   "outputs": [
    {
     "data": {
      "text/html": [
       "Current session configs: <tt>{'conf': {'spark.pyspark.python': 'python3', 'spark.pyspark.virtualenv.enabled': 'true', 'spark.pyspark.virtualenv.type': 'native', 'spark.pyspark.virtualenv.bin.path': '/usr/bin/virtualenv'}, 'kind': 'pyspark'}</tt><br>"
      ],
      "text/plain": [
       "<IPython.core.display.HTML object>"
      ]
     },
     "metadata": {},
     "output_type": "display_data"
    },
    {
     "data": {
      "text/html": [
       "No active sessions."
      ],
      "text/plain": [
       "<IPython.core.display.HTML object>"
      ]
     },
     "metadata": {},
     "output_type": "display_data"
    }
   ],
   "source": [
    "%info"
   ]
  },
  {
   "cell_type": "code",
   "execution_count": 2,
   "metadata": {},
   "outputs": [
    {
     "data": {
      "application/vnd.jupyter.widget-view+json": {
       "model_id": "1b8d3968127f4dd493e8fd558941ddbb",
       "version_major": 2,
       "version_minor": 0
      },
      "text/plain": [
       "VBox()"
      ]
     },
     "metadata": {},
     "output_type": "display_data"
    },
    {
     "name": "stdout",
     "output_type": "stream",
     "text": [
      "Starting Spark application\n"
     ]
    },
    {
     "data": {
      "text/html": [
       "<table>\n",
       "<tr><th>ID</th><th>YARN Application ID</th><th>Kind</th><th>State</th><th>Spark UI</th><th>Driver log</th><th>Current session?</th></tr><tr><td>9</td><td>application_1588561620230_0010</td><td>pyspark</td><td>idle</td><td><a target=\"_blank\" href=\"http://ip-172-31-30-88.us-east-2.compute.internal:20888/proxy/application_1588561620230_0010/\">Link</a></td><td><a target=\"_blank\" href=\"http://ip-172-31-26-19.us-east-2.compute.internal:8042/node/containerlogs/container_1588561620230_0010_01_000001/livy\">Link</a></td><td>✔</td></tr></table>"
      ],
      "text/plain": [
       "<IPython.core.display.HTML object>"
      ]
     },
     "metadata": {},
     "output_type": "display_data"
    },
    {
     "data": {
      "application/vnd.jupyter.widget-view+json": {
       "model_id": "",
       "version_major": 2,
       "version_minor": 0
      },
      "text/plain": [
       "FloatProgress(value=0.0, bar_style='info', description='Progress:', layout=Layout(height='25px', width='50%'),…"
      ]
     },
     "metadata": {},
     "output_type": "display_data"
    },
    {
     "name": "stdout",
     "output_type": "stream",
     "text": [
      "SparkSession available as 'spark'.\n"
     ]
    },
    {
     "data": {
      "application/vnd.jupyter.widget-view+json": {
       "model_id": "",
       "version_major": 2,
       "version_minor": 0
      },
      "text/plain": [
       "FloatProgress(value=0.0, bar_style='info', description='Progress:', layout=Layout(height='25px', width='50%'),…"
      ]
     },
     "metadata": {},
     "output_type": "display_data"
    },
    {
     "name": "stdout",
     "output_type": "stream",
     "text": [
      "Package                    Version\n",
      "-------------------------- -------\n",
      "beautifulsoup4             4.8.1\n",
      "boto                       2.49.0\n",
      "jmespath                   0.9.4\n",
      "lxml                       4.4.2\n",
      "mysqlclient                1.4.6\n",
      "nltk                       3.4.5\n",
      "nose                       1.3.4\n",
      "numpy                      1.14.5\n",
      "pip                        20.1\n",
      "py-dateutil                2.2\n",
      "python36-sagemaker-pyspark 1.2.6\n",
      "pytz                       2019.3\n",
      "PyYAML                     3.11\n",
      "setuptools                 46.1.3\n",
      "six                        1.13.0\n",
      "soupsieve                  1.9.5\n",
      "wheel                      0.34.2\n",
      "windmill                   1.6"
     ]
    }
   ],
   "source": [
    "# Current available packages\n",
    "sc.list_packages()"
   ]
  },
  {
   "cell_type": "markdown",
   "metadata": {},
   "source": [
    "# Installation and Initial Setup\n",
    "\n",
    "Begin by installing the necessary libraries that you may need to conduct your analysis. At the very least, you must install pandas, matplotlib, and seaborn"
   ]
  },
  {
   "cell_type": "code",
   "execution_count": 3,
   "metadata": {},
   "outputs": [
    {
     "data": {
      "application/vnd.jupyter.widget-view+json": {
       "model_id": "9c55b288459b453297288088741ff57b",
       "version_major": 2,
       "version_minor": 0
      },
      "text/plain": [
       "VBox()"
      ]
     },
     "metadata": {},
     "output_type": "display_data"
    },
    {
     "data": {
      "application/vnd.jupyter.widget-view+json": {
       "model_id": "",
       "version_major": 2,
       "version_minor": 0
      },
      "text/plain": [
       "FloatProgress(value=0.0, bar_style='info', description='Progress:', layout=Layout(height='25px', width='50%'),…"
      ]
     },
     "metadata": {},
     "output_type": "display_data"
    },
    {
     "name": "stdout",
     "output_type": "stream",
     "text": [
      "Collecting pandas==1.0.3\n",
      "  Using cached pandas-1.0.3-cp36-cp36m-manylinux1_x86_64.whl (10.0 MB)\n",
      "Collecting python-dateutil>=2.6.1\n",
      "  Using cached python_dateutil-2.8.1-py2.py3-none-any.whl (227 kB)\n",
      "Requirement already satisfied: numpy>=1.13.3 in /usr/local/lib64/python3.6/site-packages (from pandas==1.0.3) (1.14.5)\n",
      "Requirement already satisfied: pytz>=2017.2 in /usr/local/lib/python3.6/site-packages (from pandas==1.0.3) (2019.3)\n",
      "Requirement already satisfied: six>=1.5 in /usr/local/lib/python3.6/site-packages (from python-dateutil>=2.6.1->pandas==1.0.3) (1.13.0)\n",
      "Installing collected packages: python-dateutil, pandas\n",
      "Successfully installed pandas-1.0.3 python-dateutil-2.8.1\n",
      "\n",
      "Collecting matplotlib==3.2.1\n",
      "  Using cached matplotlib-3.2.1-cp36-cp36m-manylinux1_x86_64.whl (12.4 MB)\n",
      "Collecting pyparsing!=2.0.4,!=2.1.2,!=2.1.6,>=2.0.1\n",
      "  Using cached pyparsing-2.4.7-py2.py3-none-any.whl (67 kB)\n",
      "Requirement already satisfied: numpy>=1.11 in /usr/local/lib64/python3.6/site-packages (from matplotlib==3.2.1) (1.14.5)\n",
      "Requirement already satisfied: python-dateutil>=2.1 in /mnt/tmp/1588632399927-0/lib/python3.6/site-packages (from matplotlib==3.2.1) (2.8.1)\n",
      "Collecting kiwisolver>=1.0.1\n",
      "  Using cached kiwisolver-1.2.0-cp36-cp36m-manylinux1_x86_64.whl (88 kB)\n",
      "Collecting cycler>=0.10\n",
      "  Using cached cycler-0.10.0-py2.py3-none-any.whl (6.5 kB)\n",
      "Requirement already satisfied: six>=1.5 in /usr/local/lib/python3.6/site-packages (from python-dateutil>=2.1->matplotlib==3.2.1) (1.13.0)\n",
      "Installing collected packages: pyparsing, kiwisolver, cycler, matplotlib\n",
      "Successfully installed cycler-0.10.0 kiwisolver-1.2.0 matplotlib-3.2.1 pyparsing-2.4.7\n",
      "\n",
      "Collecting seaborn==0.10.0\n",
      "  Using cached seaborn-0.10.0-py3-none-any.whl (215 kB)\n",
      "Collecting scipy>=1.0.1\n",
      "  Using cached scipy-1.4.1-cp36-cp36m-manylinux1_x86_64.whl (26.1 MB)\n",
      "Requirement already satisfied: matplotlib>=2.1.2 in /mnt/tmp/1588632399927-0/lib64/python3.6/site-packages (from seaborn==0.10.0) (3.2.1)\n",
      "Requirement already satisfied: numpy>=1.13.3 in /usr/local/lib64/python3.6/site-packages (from seaborn==0.10.0) (1.14.5)\n",
      "Requirement already satisfied: pandas>=0.22.0 in /mnt/tmp/1588632399927-0/lib64/python3.6/site-packages (from seaborn==0.10.0) (1.0.3)\n",
      "Requirement already satisfied: pyparsing!=2.0.4,!=2.1.2,!=2.1.6,>=2.0.1 in /mnt/tmp/1588632399927-0/lib/python3.6/site-packages (from matplotlib>=2.1.2->seaborn==0.10.0) (2.4.7)\n",
      "Requirement already satisfied: python-dateutil>=2.1 in /mnt/tmp/1588632399927-0/lib/python3.6/site-packages (from matplotlib>=2.1.2->seaborn==0.10.0) (2.8.1)\n",
      "Requirement already satisfied: kiwisolver>=1.0.1 in /mnt/tmp/1588632399927-0/lib64/python3.6/site-packages (from matplotlib>=2.1.2->seaborn==0.10.0) (1.2.0)\n",
      "Requirement already satisfied: cycler>=0.10 in /mnt/tmp/1588632399927-0/lib/python3.6/site-packages (from matplotlib>=2.1.2->seaborn==0.10.0) (0.10.0)\n",
      "Requirement already satisfied: pytz>=2017.2 in /usr/local/lib/python3.6/site-packages (from pandas>=0.22.0->seaborn==0.10.0) (2019.3)\n",
      "Requirement already satisfied: six>=1.5 in /usr/local/lib/python3.6/site-packages (from python-dateutil>=2.1->matplotlib>=2.1.2->seaborn==0.10.0) (1.13.0)\n",
      "Installing collected packages: scipy, seaborn\n",
      "Successfully installed scipy-1.4.1 seaborn-0.10.0"
     ]
    }
   ],
   "source": [
    "sc.install_pypi_package(\"pandas==1.0.3\")\n",
    "sc.install_pypi_package(\"matplotlib==3.2.1\")\n",
    "sc.install_pypi_package(\"seaborn==0.10.0\")"
   ]
  },
  {
   "cell_type": "code",
   "execution_count": 4,
   "metadata": {},
   "outputs": [
    {
     "data": {
      "application/vnd.jupyter.widget-view+json": {
       "model_id": "c1ef088ebd72469d8fbfe0463f950f67",
       "version_major": 2,
       "version_minor": 0
      },
      "text/plain": [
       "VBox()"
      ]
     },
     "metadata": {},
     "output_type": "display_data"
    },
    {
     "data": {
      "application/vnd.jupyter.widget-view+json": {
       "model_id": "",
       "version_major": 2,
       "version_minor": 0
      },
      "text/plain": [
       "FloatProgress(value=0.0, bar_style='info', description='Progress:', layout=Layout(height='25px', width='50%'),…"
      ]
     },
     "metadata": {},
     "output_type": "display_data"
    },
    {
     "name": "stdout",
     "output_type": "stream",
     "text": [
      "Package                    Version\n",
      "-------------------------- -------\n",
      "beautifulsoup4             4.8.1\n",
      "boto                       2.49.0\n",
      "cycler                     0.10.0\n",
      "jmespath                   0.9.4\n",
      "kiwisolver                 1.2.0\n",
      "lxml                       4.4.2\n",
      "matplotlib                 3.2.1\n",
      "mysqlclient                1.4.6\n",
      "nltk                       3.4.5\n",
      "nose                       1.3.4\n",
      "numpy                      1.14.5\n",
      "pandas                     1.0.3\n",
      "pip                        20.1\n",
      "py-dateutil                2.2\n",
      "pyparsing                  2.4.7\n",
      "python-dateutil            2.8.1\n",
      "python36-sagemaker-pyspark 1.2.6\n",
      "pytz                       2019.3\n",
      "PyYAML                     3.11\n",
      "scipy                      1.4.1\n",
      "seaborn                    0.10.0\n",
      "setuptools                 46.1.3\n",
      "six                        1.13.0\n",
      "soupsieve                  1.9.5\n",
      "wheel                      0.34.2\n",
      "windmill                   1.6"
     ]
    }
   ],
   "source": [
    "# Check available pakcages again\n",
    "sc.list_packages()"
   ]
  },
  {
   "cell_type": "markdown",
   "metadata": {},
   "source": [
    "# Importing\n",
    "\n",
    "Now, import the installed packages from the previous block below."
   ]
  },
  {
   "cell_type": "code",
   "execution_count": 5,
   "metadata": {},
   "outputs": [
    {
     "data": {
      "application/vnd.jupyter.widget-view+json": {
       "model_id": "05cc6d491f254e4e8839e00b7f4c9205",
       "version_major": 2,
       "version_minor": 0
      },
      "text/plain": [
       "VBox()"
      ]
     },
     "metadata": {},
     "output_type": "display_data"
    },
    {
     "data": {
      "application/vnd.jupyter.widget-view+json": {
       "model_id": "",
       "version_major": 2,
       "version_minor": 0
      },
      "text/plain": [
       "FloatProgress(value=0.0, bar_style='info', description='Progress:', layout=Layout(height='25px', width='50%'),…"
      ]
     },
     "metadata": {},
     "output_type": "display_data"
    }
   ],
   "source": [
    "import pandas as pd\n",
    "import numpy as np\n",
    "import seaborn as sns\n",
    "import matplotlib.pyplot as plt "
   ]
  },
  {
   "cell_type": "markdown",
   "metadata": {},
   "source": [
    "# Loading Data\n",
    "\n",
    "We are finally ready to load data. Using spark load the data from S3 into a dataframe object that we can manipulate further down in our analysis.\n",
    "\n",
    "Make sure you have correct file_location and file_name."
   ]
  },
  {
   "cell_type": "code",
   "execution_count": 6,
   "metadata": {},
   "outputs": [
    {
     "data": {
      "application/vnd.jupyter.widget-view+json": {
       "model_id": "7ef23869686a40a3b9aa10123844e9a4",
       "version_major": 2,
       "version_minor": 0
      },
      "text/plain": [
       "VBox()"
      ]
     },
     "metadata": {},
     "output_type": "display_data"
    },
    {
     "data": {
      "application/vnd.jupyter.widget-view+json": {
       "model_id": "",
       "version_major": 2,
       "version_minor": 0
      },
      "text/plain": [
       "FloatProgress(value=0.0, bar_style='info', description='Progress:', layout=Layout(height='25px', width='50%'),…"
      ]
     },
     "metadata": {},
     "output_type": "display_data"
    }
   ],
   "source": [
    "df_bus = spark.read.json('s3://sta9760-project2-datasets/yelp_academic_dataset_business.json')"
   ]
  },
  {
   "cell_type": "markdown",
   "metadata": {},
   "source": [
    "# Overview of Data\n",
    "Display the number of rows and columns in our dataset."
   ]
  },
  {
   "cell_type": "code",
   "execution_count": 8,
   "metadata": {},
   "outputs": [
    {
     "data": {
      "application/vnd.jupyter.widget-view+json": {
       "model_id": "8c37110627404adfb0cb6e3c93c76bf0",
       "version_major": 2,
       "version_minor": 0
      },
      "text/plain": [
       "VBox()"
      ]
     },
     "metadata": {},
     "output_type": "display_data"
    },
    {
     "data": {
      "application/vnd.jupyter.widget-view+json": {
       "model_id": "",
       "version_major": 2,
       "version_minor": 0
      },
      "text/plain": [
       "FloatProgress(value=0.0, bar_style='info', description='Progress:', layout=Layout(height='25px', width='50%'),…"
      ]
     },
     "metadata": {},
     "output_type": "display_data"
    },
    {
     "name": "stdout",
     "output_type": "stream",
     "text": [
      "Total Columns: 14\n",
      "Total Rows: 209,393"
     ]
    }
   ],
   "source": [
    "# get an overview of the dataframe\n",
    "print(f'Total Columns: {len(df_bus.dtypes)}')\n",
    "print(f'Total Rows: {df_bus.count():,}')"
   ]
  },
  {
   "cell_type": "markdown",
   "metadata": {},
   "source": [
    "Display the DataFrame schema below."
   ]
  },
  {
   "cell_type": "code",
   "execution_count": 9,
   "metadata": {},
   "outputs": [
    {
     "data": {
      "application/vnd.jupyter.widget-view+json": {
       "model_id": "92f8d49c683946d48372249e12c8026a",
       "version_major": 2,
       "version_minor": 0
      },
      "text/plain": [
       "VBox()"
      ]
     },
     "metadata": {},
     "output_type": "display_data"
    },
    {
     "data": {
      "application/vnd.jupyter.widget-view+json": {
       "model_id": "",
       "version_major": 2,
       "version_minor": 0
      },
      "text/plain": [
       "FloatProgress(value=0.0, bar_style='info', description='Progress:', layout=Layout(height='25px', width='50%'),…"
      ]
     },
     "metadata": {},
     "output_type": "display_data"
    },
    {
     "name": "stdout",
     "output_type": "stream",
     "text": [
      "root\n",
      " |-- address: string (nullable = true)\n",
      " |-- attributes: struct (nullable = true)\n",
      " |    |-- AcceptsInsurance: string (nullable = true)\n",
      " |    |-- AgesAllowed: string (nullable = true)\n",
      " |    |-- Alcohol: string (nullable = true)\n",
      " |    |-- Ambience: string (nullable = true)\n",
      " |    |-- BYOB: string (nullable = true)\n",
      " |    |-- BYOBCorkage: string (nullable = true)\n",
      " |    |-- BestNights: string (nullable = true)\n",
      " |    |-- BikeParking: string (nullable = true)\n",
      " |    |-- BusinessAcceptsBitcoin: string (nullable = true)\n",
      " |    |-- BusinessAcceptsCreditCards: string (nullable = true)\n",
      " |    |-- BusinessParking: string (nullable = true)\n",
      " |    |-- ByAppointmentOnly: string (nullable = true)\n",
      " |    |-- Caters: string (nullable = true)\n",
      " |    |-- CoatCheck: string (nullable = true)\n",
      " |    |-- Corkage: string (nullable = true)\n",
      " |    |-- DietaryRestrictions: string (nullable = true)\n",
      " |    |-- DogsAllowed: string (nullable = true)\n",
      " |    |-- DriveThru: string (nullable = true)\n",
      " |    |-- GoodForDancing: string (nullable = true)\n",
      " |    |-- GoodForKids: string (nullable = true)\n",
      " |    |-- GoodForMeal: string (nullable = true)\n",
      " |    |-- HairSpecializesIn: string (nullable = true)\n",
      " |    |-- HappyHour: string (nullable = true)\n",
      " |    |-- HasTV: string (nullable = true)\n",
      " |    |-- Music: string (nullable = true)\n",
      " |    |-- NoiseLevel: string (nullable = true)\n",
      " |    |-- Open24Hours: string (nullable = true)\n",
      " |    |-- OutdoorSeating: string (nullable = true)\n",
      " |    |-- RestaurantsAttire: string (nullable = true)\n",
      " |    |-- RestaurantsCounterService: string (nullable = true)\n",
      " |    |-- RestaurantsDelivery: string (nullable = true)\n",
      " |    |-- RestaurantsGoodForGroups: string (nullable = true)\n",
      " |    |-- RestaurantsPriceRange2: string (nullable = true)\n",
      " |    |-- RestaurantsReservations: string (nullable = true)\n",
      " |    |-- RestaurantsTableService: string (nullable = true)\n",
      " |    |-- RestaurantsTakeOut: string (nullable = true)\n",
      " |    |-- Smoking: string (nullable = true)\n",
      " |    |-- WheelchairAccessible: string (nullable = true)\n",
      " |    |-- WiFi: string (nullable = true)\n",
      " |-- business_id: string (nullable = true)\n",
      " |-- categories: string (nullable = true)\n",
      " |-- city: string (nullable = true)\n",
      " |-- hours: struct (nullable = true)\n",
      " |    |-- Friday: string (nullable = true)\n",
      " |    |-- Monday: string (nullable = true)\n",
      " |    |-- Saturday: string (nullable = true)\n",
      " |    |-- Sunday: string (nullable = true)\n",
      " |    |-- Thursday: string (nullable = true)\n",
      " |    |-- Tuesday: string (nullable = true)\n",
      " |    |-- Wednesday: string (nullable = true)\n",
      " |-- is_open: long (nullable = true)\n",
      " |-- latitude: double (nullable = true)\n",
      " |-- longitude: double (nullable = true)\n",
      " |-- name: string (nullable = true)\n",
      " |-- postal_code: string (nullable = true)\n",
      " |-- review_count: long (nullable = true)\n",
      " |-- stars: double (nullable = true)\n",
      " |-- state: string (nullable = true)"
     ]
    }
   ],
   "source": [
    "# schema\n",
    "df_bus.printSchema()"
   ]
  },
  {
   "cell_type": "markdown",
   "metadata": {},
   "source": [
    "Display the first 5 rows with the following columns:\n",
    "* business_id\n",
    "* name\n",
    "* city\n",
    "* state\n",
    "* categories"
   ]
  },
  {
   "cell_type": "code",
   "execution_count": 11,
   "metadata": {},
   "outputs": [
    {
     "data": {
      "application/vnd.jupyter.widget-view+json": {
       "model_id": "31d1bf108ca64df0aeedbb8403438795",
       "version_major": 2,
       "version_minor": 0
      },
      "text/plain": [
       "VBox()"
      ]
     },
     "metadata": {},
     "output_type": "display_data"
    },
    {
     "data": {
      "application/vnd.jupyter.widget-view+json": {
       "model_id": "",
       "version_major": 2,
       "version_minor": 0
      },
      "text/plain": [
       "FloatProgress(value=0.0, bar_style='info', description='Progress:', layout=Layout(height='25px', width='50%'),…"
      ]
     },
     "metadata": {},
     "output_type": "display_data"
    },
    {
     "name": "stdout",
     "output_type": "stream",
     "text": [
      "+--------------------+--------------------+---------------+-----+-----+--------------------+\n",
      "|         business_id|                name|           city|state|stars|          categories|\n",
      "+--------------------+--------------------+---------------+-----+-----+--------------------+\n",
      "|f9NumwFMBDn751xgF...|The Range At Lake...|      Cornelius|   NC|  3.5|Active Life, Gun/...|\n",
      "|Yzvjg0SayhoZgCljU...|   Carlos Santo, NMD|     Scottsdale|   AZ|  5.0|Health & Medical,...|\n",
      "|XNoUzKckATkOD1hP6...|             Felinus|       Montreal|   QC|  5.0|Pets, Pet Service...|\n",
      "|6OAZjbxqM5ol29BuH...|Nevada House of Hose|North Las Vegas|   NV|  2.5|Hardware Stores, ...|\n",
      "|51M2Kk903DFYI6gnB...|USE MY GUY SERVIC...|           Mesa|   AZ|  4.5|Home Services, Pl...|\n",
      "+--------------------+--------------------+---------------+-----+-----+--------------------+\n",
      "only showing top 5 rows"
     ]
    }
   ],
   "source": [
    "df_bus.createOrReplaceTempView(\"bus\")\n",
    "df_table = spark.sql(\n",
    "'''\n",
    "SELECT business_id, name, city, state, stars, categories \n",
    "FROM bus \n",
    "'''\n",
    ")\n",
    "\n",
    "df_table.show(5)"
   ]
  },
  {
   "cell_type": "markdown",
   "metadata": {},
   "source": [
    "# Analyzing Categories\n",
    "\n",
    "Let's now answer this question: **how many unique categories are represented in this dataset?**\n",
    "\n",
    "Essentially, we have the categories per business as a list - this is useful to quickly see what each business might be represented as but it is difficult to easily answer questions such as:\n",
    "\n",
    "* How many businesses are categorized as *Active Life*, for instance\n",
    "* What are the top 20 most popular categories available?\n",
    "\n",
    "\n",
    "Association Table\n",
    "We need to \"break out\" these categories from the business ids? One common approach to take is to build an association table mapping a single business id multiple times to each distinct category.\n",
    "\n",
    "For instance, given the following:\n",
    "\n",
    "| business_id | categories         \n",
    "| :-: |:-------------: \n",
    "|abcd123| a,b,c\n",
    "\n",
    "\n",
    "We would like to derive something like:\n",
    "\n",
    "| business_id | categories         \n",
    "| :-: |:-------------: \n",
    "|abcd123| a\n",
    "|abcd123| b\n",
    "|abcd123| c\n",
    "\n",
    "What this does is allow us to then perform a myriad of rollups and other analysis on this association table which can aid us in answering the questions asked above.\n",
    "\n",
    "Implement the code necessary to derive the table described from your original yelp dataframe."
   ]
  },
  {
   "cell_type": "markdown",
   "metadata": {},
   "source": [
    "Display the first 5 rows of your association table below."
   ]
  },
  {
   "cell_type": "code",
   "execution_count": 12,
   "metadata": {},
   "outputs": [
    {
     "data": {
      "application/vnd.jupyter.widget-view+json": {
       "model_id": "7de082b4b7eb4295add0c4f9130eb8a3",
       "version_major": 2,
       "version_minor": 0
      },
      "text/plain": [
       "VBox()"
      ]
     },
     "metadata": {},
     "output_type": "display_data"
    },
    {
     "data": {
      "application/vnd.jupyter.widget-view+json": {
       "model_id": "",
       "version_major": 2,
       "version_minor": 0
      },
      "text/plain": [
       "FloatProgress(value=0.0, bar_style='info', description='Progress:', layout=Layout(height='25px', width='50%'),…"
      ]
     },
     "metadata": {},
     "output_type": "display_data"
    },
    {
     "name": "stdout",
     "output_type": "stream",
     "text": [
      "+--------------------+----------------+\n",
      "|         business_id|        category|\n",
      "+--------------------+----------------+\n",
      "|f9NumwFMBDn751xgF...|     Active Life|\n",
      "|f9NumwFMBDn751xgF...|Gun/Rifle Ranges|\n",
      "|f9NumwFMBDn751xgF...|     Guns & Ammo|\n",
      "|f9NumwFMBDn751xgF...|        Shopping|\n",
      "|Yzvjg0SayhoZgCljU...|Health & Medical|\n",
      "+--------------------+----------------+"
     ]
    }
   ],
   "source": [
    "# create df that only contains business id and category \n",
    "# split category and map business_id multiple times to each of its category\n",
    "\n",
    "df_cat = spark.sql(\n",
    "'''\n",
    "SELECT business_id, EXPLODE(SPLIT(categories,', ')) category \n",
    "FROM bus\n",
    "'''\n",
    ")\n",
    "\n",
    "df_cat.createOrReplaceTempView(\"cat\")\n",
    "\n",
    "df_cat = spark.sql(\n",
    "'''\n",
    "SELECT * \n",
    "FROM cat\n",
    "LIMIT 5\n",
    "''')\n",
    "\n",
    "df_cat.show()"
   ]
  },
  {
   "cell_type": "markdown",
   "metadata": {},
   "source": [
    "# Total Unique Categories \n",
    "Finally, we are ready to answer the question: **what is the total number of unique categories available?**\n",
    "\n",
    "Below, implement the code necessary to calculate this figure."
   ]
  },
  {
   "cell_type": "code",
   "execution_count": 13,
   "metadata": {},
   "outputs": [
    {
     "data": {
      "application/vnd.jupyter.widget-view+json": {
       "model_id": "06cf655de4ee45f7acadfe8868a2873f",
       "version_major": 2,
       "version_minor": 0
      },
      "text/plain": [
       "VBox()"
      ]
     },
     "metadata": {},
     "output_type": "display_data"
    },
    {
     "data": {
      "application/vnd.jupyter.widget-view+json": {
       "model_id": "",
       "version_major": 2,
       "version_minor": 0
      },
      "text/plain": [
       "FloatProgress(value=0.0, bar_style='info', description='Progress:', layout=Layout(height='25px', width='50%'),…"
      ]
     },
     "metadata": {},
     "output_type": "display_data"
    },
    {
     "name": "stdout",
     "output_type": "stream",
     "text": [
      "1336"
     ]
    }
   ],
   "source": [
    "count = spark.sql(\n",
    "'''\n",
    "SELECT DISTINCT(category)\n",
    "FROM cat\n",
    "''')\n",
    "\n",
    "count.count()"
   ]
  },
  {
   "cell_type": "markdown",
   "metadata": {},
   "source": [
    "# Top Categories By Business\n",
    "\n",
    "Now let's find the top categories in this dataset by rolling up categories.\n",
    "\n",
    "So now, let's unroll our distinct count a bit and display the per count value of businesses per category.\n",
    "\n",
    "The expected output should be:\n",
    "\n",
    "| category | count      \n",
    "| :-: |:-------------: \n",
    "| a | 15\n",
    "| b | 2\n",
    "| c | 45\n",
    "\n",
    "Or something to that effect."
   ]
  },
  {
   "cell_type": "code",
   "execution_count": 14,
   "metadata": {},
   "outputs": [
    {
     "data": {
      "application/vnd.jupyter.widget-view+json": {
       "model_id": "b806450135494a81b1b311649d31d294",
       "version_major": 2,
       "version_minor": 0
      },
      "text/plain": [
       "VBox()"
      ]
     },
     "metadata": {},
     "output_type": "display_data"
    },
    {
     "data": {
      "application/vnd.jupyter.widget-view+json": {
       "model_id": "",
       "version_major": 2,
       "version_minor": 0
      },
      "text/plain": [
       "FloatProgress(value=0.0, bar_style='info', description='Progress:', layout=Layout(height='25px', width='50%'),…"
      ]
     },
     "metadata": {},
     "output_type": "display_data"
    },
    {
     "name": "stdout",
     "output_type": "stream",
     "text": [
      "+--------------------+-----+\n",
      "|            category|total|\n",
      "+--------------------+-----+\n",
      "|         Restaurants|63944|\n",
      "|            Shopping|34644|\n",
      "|                Food|32991|\n",
      "|       Home Services|22487|\n",
      "|       Beauty & Spas|20520|\n",
      "|    Health & Medical|19227|\n",
      "|      Local Services|15783|\n",
      "|          Automotive|14720|\n",
      "|           Nightlife|14211|\n",
      "|                Bars|12400|\n",
      "|Event Planning & ...|11263|\n",
      "|         Active Life|10225|\n",
      "|        Coffee & Tea| 8415|\n",
      "|             Fashion| 8374|\n",
      "|           Fast Food| 8106|\n",
      "|          Sandwiches| 8064|\n",
      "|American (Traditi...| 7596|\n",
      "|       Home & Garden| 7331|\n",
      "|         Hair Salons| 7303|\n",
      "|               Pizza| 7302|\n",
      "+--------------------+-----+"
     ]
    }
   ],
   "source": [
    "# count category and show the top 20\n",
    "\n",
    "count_20 = spark.sql(\n",
    "'''\n",
    "SELECT category, COUNT(*) AS total\n",
    "FROM cat\n",
    "GROUP BY category\n",
    "ORDER BY total DESC\n",
    "LIMIT 20''')\n",
    "\n",
    "count_20.show()"
   ]
  },
  {
   "cell_type": "markdown",
   "metadata": {},
   "source": [
    "\n",
    "# Bar Chart of Top Categories\n",
    "With this data available, let us now build a barchart of the top 20 categories.\n",
    "\n",
    "**HINT**: don't forget about the matplotlib magic!\n",
    "\n",
    "    %matplot plt"
   ]
  },
  {
   "cell_type": "code",
   "execution_count": 15,
   "metadata": {},
   "outputs": [
    {
     "data": {
      "application/vnd.jupyter.widget-view+json": {
       "model_id": "153b57a50bad4f6bb7df8ab7753f9389",
       "version_major": 2,
       "version_minor": 0
      },
      "text/plain": [
       "VBox()"
      ]
     },
     "metadata": {},
     "output_type": "display_data"
    },
    {
     "data": {
      "application/vnd.jupyter.widget-view+json": {
       "model_id": "",
       "version_major": 2,
       "version_minor": 0
      },
      "text/plain": [
       "FloatProgress(value=0.0, bar_style='info', description='Progress:', layout=Layout(height='25px', width='50%'),…"
      ]
     },
     "metadata": {},
     "output_type": "display_data"
    }
   ],
   "source": [
    "# Conver to Pandas\n",
    "count_20pd = count_20.toPandas()"
   ]
  },
  {
   "cell_type": "code",
   "execution_count": 16,
   "metadata": {},
   "outputs": [
    {
     "data": {
      "application/vnd.jupyter.widget-view+json": {
       "model_id": "7216c98e4eb04e12bed8e7929ab3471f",
       "version_major": 2,
       "version_minor": 0
      },
      "text/plain": [
       "VBox()"
      ]
     },
     "metadata": {},
     "output_type": "display_data"
    },
    {
     "data": {
      "application/vnd.jupyter.widget-view+json": {
       "model_id": "",
       "version_major": 2,
       "version_minor": 0
      },
      "text/plain": [
       "FloatProgress(value=0.0, bar_style='info', description='Progress:', layout=Layout(height='25px', width='50%'),…"
      ]
     },
     "metadata": {},
     "output_type": "display_data"
    },
    {
     "data": {
      "image/png": "[encoded data removed]",
      "text/plain": [
       "<IPython.core.display.Image object>"
      ]
     },
     "metadata": {},
     "output_type": "display_data"
    }
   ],
   "source": [
    "# plot\n",
    "count_20pd.sort_values(by='total',ascending=True).plot(\n",
    "x='category',\n",
    "y='total',\n",
    "kind='barh',\n",
    "figsize=(20,10),\n",
    "legend=None,\n",
    "color='lightsteelblue')\n",
    "plt.title('Top Categories by Bussiness', fontsize=20)\n",
    "plt.xlabel(\"Total Count\")\n",
    "plt.ylabel(\"Category\")\n",
    "%matplot plt"
   ]
  },
  {
   "cell_type": "markdown",
   "metadata": {},
   "source": [
    "# Do Yelp Reviews Skew Negative?# \n",
    "\n",
    "Oftentimes, it is said that the only people who write a written review are those who are extremely dissatisfied or extremely satisfied with the service received.\n",
    "\n",
    "How true is this really? Let's try and answer this question."
   ]
  },
  {
   "cell_type": "markdown",
   "metadata": {},
   "source": [
    "# Loading User Data\n",
    "\n",
    "Begin by loading the user data set from S3 and printing schema to determine what data is available.\n"
   ]
  },
  {
   "cell_type": "code",
   "execution_count": 17,
   "metadata": {},
   "outputs": [
    {
     "data": {
      "application/vnd.jupyter.widget-view+json": {
       "model_id": "0b62ca236aab4a619e28d8767f700ab5",
       "version_major": 2,
       "version_minor": 0
      },
      "text/plain": [
       "VBox()"
      ]
     },
     "metadata": {},
     "output_type": "display_data"
    },
    {
     "data": {
      "application/vnd.jupyter.widget-view+json": {
       "model_id": "",
       "version_major": 2,
       "version_minor": 0
      },
      "text/plain": [
       "FloatProgress(value=0.0, bar_style='info', description='Progress:', layout=Layout(height='25px', width='50%'),…"
      ]
     },
     "metadata": {},
     "output_type": "display_data"
    }
   ],
   "source": [
    "df_rv = spark.read.json('s3://sta9760-project2-datasets/yelp_academic_dataset_review.json') "
   ]
  },
  {
   "cell_type": "code",
   "execution_count": 18,
   "metadata": {},
   "outputs": [
    {
     "data": {
      "application/vnd.jupyter.widget-view+json": {
       "model_id": "4616b0c1b03d443689e3074a620c5e6c",
       "version_major": 2,
       "version_minor": 0
      },
      "text/plain": [
       "VBox()"
      ]
     },
     "metadata": {},
     "output_type": "display_data"
    },
    {
     "data": {
      "application/vnd.jupyter.widget-view+json": {
       "model_id": "",
       "version_major": 2,
       "version_minor": 0
      },
      "text/plain": [
       "FloatProgress(value=0.0, bar_style='info', description='Progress:', layout=Layout(height='25px', width='50%'),…"
      ]
     },
     "metadata": {},
     "output_type": "display_data"
    },
    {
     "name": "stdout",
     "output_type": "stream",
     "text": [
      "root\n",
      " |-- business_id: string (nullable = true)\n",
      " |-- cool: long (nullable = true)\n",
      " |-- date: string (nullable = true)\n",
      " |-- funny: long (nullable = true)\n",
      " |-- review_id: string (nullable = true)\n",
      " |-- stars: double (nullable = true)\n",
      " |-- text: string (nullable = true)\n",
      " |-- useful: long (nullable = true)\n",
      " |-- user_id: string (nullable = true)"
     ]
    }
   ],
   "source": [
    "# schema\n",
    "df_rv.printSchema()"
   ]
  },
  {
   "cell_type": "markdown",
   "metadata": {},
   "source": [
    "Let's begin by listing the business_id and stars columns together for the user reviews data."
   ]
  },
  {
   "cell_type": "code",
   "execution_count": 19,
   "metadata": {},
   "outputs": [
    {
     "data": {
      "application/vnd.jupyter.widget-view+json": {
       "model_id": "26f0deda00224a459e6c968aa0d3065e",
       "version_major": 2,
       "version_minor": 0
      },
      "text/plain": [
       "VBox()"
      ]
     },
     "metadata": {},
     "output_type": "display_data"
    },
    {
     "data": {
      "application/vnd.jupyter.widget-view+json": {
       "model_id": "",
       "version_major": 2,
       "version_minor": 0
      },
      "text/plain": [
       "FloatProgress(value=0.0, bar_style='info', description='Progress:', layout=Layout(height='25px', width='50%'),…"
      ]
     },
     "metadata": {},
     "output_type": "display_data"
    },
    {
     "name": "stdout",
     "output_type": "stream",
     "text": [
      "+--------------------+-----+\n",
      "|         business_id|stars|\n",
      "+--------------------+-----+\n",
      "|-MhfebM0QIsKt87iD...|  2.0|\n",
      "|lbrU8StCq3yDfr-QM...|  1.0|\n",
      "|HQl28KMwrEKHqhFrr...|  5.0|\n",
      "|5JxlZaqCnk1MnbgRi...|  1.0|\n",
      "|IS4cv902ykd8wj1TR...|  4.0|\n",
      "+--------------------+-----+\n",
      "only showing top 5 rows"
     ]
    }
   ],
   "source": [
    "df_rv.createOrReplaceTempView(\"review\")\n",
    "df_table2 = spark.sql(\n",
    "'''\n",
    "SELECT business_id, stars\n",
    "FROM review\n",
    "'''\n",
    ")\n",
    "\n",
    "df_table2.show(5)"
   ]
  },
  {
   "cell_type": "markdown",
   "metadata": {},
   "source": [
    "Now, let's aggregate along the stars column to get a resultant dataframe that displays average stars per business as accumulated by users who **took the time to submit a written review.**\n",
    "\n"
   ]
  },
  {
   "cell_type": "code",
   "execution_count": 20,
   "metadata": {},
   "outputs": [
    {
     "data": {
      "application/vnd.jupyter.widget-view+json": {
       "model_id": "a183c1ca3b3f4e1fbe86d299cada6536",
       "version_major": 2,
       "version_minor": 0
      },
      "text/plain": [
       "VBox()"
      ]
     },
     "metadata": {},
     "output_type": "display_data"
    },
    {
     "data": {
      "application/vnd.jupyter.widget-view+json": {
       "model_id": "",
       "version_major": 2,
       "version_minor": 0
      },
      "text/plain": [
       "FloatProgress(value=0.0, bar_style='info', description='Progress:', layout=Layout(height='25px', width='50%'),…"
      ]
     },
     "metadata": {},
     "output_type": "display_data"
    },
    {
     "name": "stdout",
     "output_type": "stream",
     "text": [
      "+--------------------+------------------+\n",
      "|         business_id|      average_star|\n",
      "+--------------------+------------------+\n",
      "|VHsNB3pdGVcRgs6C3...| 3.411764705882353|\n",
      "|RMjCnixEY5i12Ciqn...|3.5316455696202533|\n",
      "|vQGZjrDiDBuznOkUe...| 4.454545454545454|\n",
      "|vyu1WGlnHGv2Z2MVE...|               5.0|\n",
      "|r-W1HPIZ3V6S2DaXh...| 4.852459016393443|\n",
      "+--------------------+------------------+\n",
      "only showing top 5 rows"
     ]
    }
   ],
   "source": [
    "# calculate the average review stars for each unique business id\n",
    "avg = spark.sql(\n",
    "'''\n",
    "SELECT DISTINCT business_id, AVG(stars) as average_star\n",
    "FROM review\n",
    "GROUP BY business_id\n",
    "'''\n",
    ")\n",
    "avg.createOrReplaceTempView(\"avg\")\n",
    "avg.show(5)"
   ]
  },
  {
   "cell_type": "markdown",
   "metadata": {},
   "source": [
    "Now the fun part - let's join our two dataframes (reviews and business data) by business_id."
   ]
  },
  {
   "cell_type": "markdown",
   "metadata": {},
   "source": [
    "Let's see a few of these:"
   ]
  },
  {
   "cell_type": "code",
   "execution_count": 21,
   "metadata": {},
   "outputs": [
    {
     "data": {
      "application/vnd.jupyter.widget-view+json": {
       "model_id": "ea430fb739f74c718d6bedbfd36f9dd1",
       "version_major": 2,
       "version_minor": 0
      },
      "text/plain": [
       "VBox()"
      ]
     },
     "metadata": {},
     "output_type": "display_data"
    },
    {
     "data": {
      "application/vnd.jupyter.widget-view+json": {
       "model_id": "",
       "version_major": 2,
       "version_minor": 0
      },
      "text/plain": [
       "FloatProgress(value=0.0, bar_style='info', description='Progress:', layout=Layout(height='25px', width='50%'),…"
      ]
     },
     "metadata": {},
     "output_type": "display_data"
    },
    {
     "name": "stdout",
     "output_type": "stream",
     "text": [
      "+------------+-----+--------------------+----------+-----+\n",
      "|average_star|stars|                name|      city|state|\n",
      "+------------+-----+--------------------+----------+-----+\n",
      "|         5.0|  5.0|          Mane.edits| Charlotte|   NC|\n",
      "|         5.0|  5.0|      Thomas S Holly|   Phoenix|   AZ|\n",
      "|         5.0|  5.0|       The Amburgeys|   Gilbert|   AZ|\n",
      "|         5.0|  5.0|Jane Bloch - Cold...|Pittsburgh|   PA|\n",
      "|         5.0|  5.0| Arizona Microgreens|   Phoenix|   AZ|\n",
      "+------------+-----+--------------------+----------+-----+\n",
      "only showing top 5 rows"
     ]
    }
   ],
   "source": [
    "# joining table using business_id as key\n",
    "# orbey by reversely\n",
    "join = spark.sql(\n",
    "'''\n",
    "SELECT avg.average_star, bus.stars, bus.name, bus.city, bus.state\n",
    "FROM avg\n",
    "INNER JOIN bus ON avg.business_id = bus.business_id\n",
    "ORDER BY avg.average_star DESC\n",
    "''')\n",
    "join.createOrReplaceTempView(\"joined\")\n",
    "join.show(5)"
   ]
  },
  {
   "cell_type": "markdown",
   "metadata": {},
   "source": [
    "\n",
    "Compute a new dataframe that calculates what we will call the skew (for lack of a better word) between the avg stars accumulated from written reviews and the actual star rating of a business (ie: the average of stars given by reviewers who wrote an actual review **and** reviewers who just provided a star rating).\n",
    "\n",
    "The formula you can use is something like:\n",
    "\n",
    "    (row['avg(stars)'] - row['stars']) / row['stars']\n",
    "\n",
    "If the **skew** is negative, we can interpret that to be: reviewers who left a written response were more dissatisfied than normal. If **skew** is positive, we can interpret that to be: reviewers who left a written response were more satisfied than normal"
   ]
  },
  {
   "cell_type": "code",
   "execution_count": 22,
   "metadata": {},
   "outputs": [
    {
     "data": {
      "application/vnd.jupyter.widget-view+json": {
       "model_id": "dee78d3c734f4deea79538e1d5f584b0",
       "version_major": 2,
       "version_minor": 0
      },
      "text/plain": [
       "VBox()"
      ]
     },
     "metadata": {},
     "output_type": "display_data"
    },
    {
     "data": {
      "application/vnd.jupyter.widget-view+json": {
       "model_id": "",
       "version_major": 2,
       "version_minor": 0
      },
      "text/plain": [
       "FloatProgress(value=0.0, bar_style='info', description='Progress:', layout=Layout(height='25px', width='50%'),…"
      ]
     },
     "metadata": {},
     "output_type": "display_data"
    },
    {
     "name": "stdout",
     "output_type": "stream",
     "text": [
      "+--------------------+\n",
      "|                skew|\n",
      "+--------------------+\n",
      "|-0.45454545454545453|\n",
      "| -0.3968253968253968|\n",
      "|  -0.380952380952381|\n",
      "| -0.3766233766233767|\n",
      "|-0.37142857142857144|\n",
      "| -0.3703703703703704|\n",
      "| -0.3571428571428571|\n",
      "|               -0.35|\n",
      "| -0.3333333333333333|\n",
      "| -0.3230769230769231|\n",
      "| -0.3214285714285714|\n",
      "|               -0.32|\n",
      "|-0.31428571428571433|\n",
      "|-0.31428571428571433|\n",
      "|-0.31428571428571433|\n",
      "|-0.31428571428571433|\n",
      "|-0.31428571428571433|\n",
      "|-0.31428571428571433|\n",
      "| -0.3137254901960785|\n",
      "|             -0.3125|\n",
      "+--------------------+\n",
      "only showing top 20 rows"
     ]
    }
   ],
   "source": [
    "# calculate skew\n",
    "skew = spark.sql(\n",
    "'''\n",
    "SELECT (average_star - stars) / stars AS skew\n",
    "FROM joined\n",
    "ORDER BY skew ASC\n",
    "''')\n",
    "skew.show()"
   ]
  },
  {
   "cell_type": "code",
   "execution_count": 23,
   "metadata": {},
   "outputs": [
    {
     "data": {
      "application/vnd.jupyter.widget-view+json": {
       "model_id": "993880fb408a4ec4b37d7ab64d3cabcf",
       "version_major": 2,
       "version_minor": 0
      },
      "text/plain": [
       "VBox()"
      ]
     },
     "metadata": {},
     "output_type": "display_data"
    },
    {
     "data": {
      "application/vnd.jupyter.widget-view+json": {
       "model_id": "",
       "version_major": 2,
       "version_minor": 0
      },
      "text/plain": [
       "FloatProgress(value=0.0, bar_style='info', description='Progress:', layout=Layout(height='25px', width='50%'),…"
      ]
     },
     "metadata": {},
     "output_type": "display_data"
    }
   ],
   "source": [
    "# convert to pandas\n",
    "skew_pd = skew.toPandas()"
   ]
  },
  {
   "cell_type": "markdown",
   "metadata": {},
   "source": [
    "And finally, graph it!"
   ]
  },
  {
   "cell_type": "code",
   "execution_count": 24,
   "metadata": {},
   "outputs": [
    {
     "data": {
      "application/vnd.jupyter.widget-view+json": {
       "model_id": "e1a02c1f4e3347269c3c2eb88e3be100",
       "version_major": 2,
       "version_minor": 0
      },
      "text/plain": [
       "VBox()"
      ]
     },
     "metadata": {},
     "output_type": "display_data"
    },
    {
     "data": {
      "application/vnd.jupyter.widget-view+json": {
       "model_id": "",
       "version_major": 2,
       "version_minor": 0
      },
      "text/plain": [
       "FloatProgress(value=0.0, bar_style='info', description='Progress:', layout=Layout(height='25px', width='50%'),…"
      ]
     },
     "metadata": {},
     "output_type": "display_data"
    },
    {
     "data": {
      "image/png": "[encoded data removed]",
      "text/plain": [
       "<IPython.core.display.Image object>"
      ]
     },
     "metadata": {},
     "output_type": "display_data"
    }
   ],
   "source": [
    "# plot \n",
    "plt.figure(figsize=(20,10))\n",
    "sns.distplot(skew_pd['skew'], \n",
    "            hist=True, \n",
    "            kde=True, \n",
    "            bins=50, \n",
    "            color = 'lightsteelblue',\n",
    "            kde_kws={'linewidth':1})\n",
    "plt.title('Top Categories by Bussiness', fontsize=20)\n",
    "plt.xlabel('k')\n",
    "%matplot plt"
   ]
  },
  {
   "cell_type": "markdown",
   "metadata": {},
   "source": [
    "# Should the Elite be Trusted? (Or, some other analysis of your choice)\n",
    "\n",
    "\n",
    "For the final portion - you have a choice:\n",
    "\n",
    "* Try and analyze some interesting dimension to this data. The **ONLY** requirement is that you must use the Users dataset and join on either the **business** or **reviews** dataset\n",
    "* Or, you may try and answer the question posed: how accurate or close are the ratings of an \"elite\" user (check Users table schema) vs the actual business rating.\n",
    "\n",
    "Feel free to use any and all methodologies at your disposal - only requirement is you must render one visualization in your analysis"
   ]
  },
  {
   "cell_type": "markdown",
   "metadata": {},
   "source": [
    "# Loading Data\n",
    "\n",
    "Loading user's data"
   ]
  },
  {
   "cell_type": "code",
   "execution_count": 25,
   "metadata": {},
   "outputs": [
    {
     "data": {
      "application/vnd.jupyter.widget-view+json": {
       "model_id": "fa413c3a968843e1bb2687ea69e016c6",
       "version_major": 2,
       "version_minor": 0
      },
      "text/plain": [
       "VBox()"
      ]
     },
     "metadata": {},
     "output_type": "display_data"
    },
    {
     "data": {
      "application/vnd.jupyter.widget-view+json": {
       "model_id": "",
       "version_major": 2,
       "version_minor": 0
      },
      "text/plain": [
       "FloatProgress(value=0.0, bar_style='info', description='Progress:', layout=Layout(height='25px', width='50%'),…"
      ]
     },
     "metadata": {},
     "output_type": "display_data"
    }
   ],
   "source": [
    "df_user = spark.read.json('s3://sta9760-project2-datasets/yelp_academic_dataset_user.json')"
   ]
  },
  {
   "cell_type": "markdown",
   "metadata": {},
   "source": [
    "Printing schema to determine what data is available."
   ]
  },
  {
   "cell_type": "code",
   "execution_count": 26,
   "metadata": {
    "scrolled": true
   },
   "outputs": [
    {
     "data": {
      "application/vnd.jupyter.widget-view+json": {
       "model_id": "dcb3a4003edc4e558dd635e556b628d0",
       "version_major": 2,
       "version_minor": 0
      },
      "text/plain": [
       "VBox()"
      ]
     },
     "metadata": {},
     "output_type": "display_data"
    },
    {
     "data": {
      "application/vnd.jupyter.widget-view+json": {
       "model_id": "",
       "version_major": 2,
       "version_minor": 0
      },
      "text/plain": [
       "FloatProgress(value=0.0, bar_style='info', description='Progress:', layout=Layout(height='25px', width='50%'),…"
      ]
     },
     "metadata": {},
     "output_type": "display_data"
    },
    {
     "name": "stdout",
     "output_type": "stream",
     "text": [
      "Total Columns: 22\n",
      "Total Rows: 1,968,703\n",
      "root\n",
      " |-- average_stars: double (nullable = true)\n",
      " |-- compliment_cool: long (nullable = true)\n",
      " |-- compliment_cute: long (nullable = true)\n",
      " |-- compliment_funny: long (nullable = true)\n",
      " |-- compliment_hot: long (nullable = true)\n",
      " |-- compliment_list: long (nullable = true)\n",
      " |-- compliment_more: long (nullable = true)\n",
      " |-- compliment_note: long (nullable = true)\n",
      " |-- compliment_photos: long (nullable = true)\n",
      " |-- compliment_plain: long (nullable = true)\n",
      " |-- compliment_profile: long (nullable = true)\n",
      " |-- compliment_writer: long (nullable = true)\n",
      " |-- cool: long (nullable = true)\n",
      " |-- elite: string (nullable = true)\n",
      " |-- fans: long (nullable = true)\n",
      " |-- friends: string (nullable = true)\n",
      " |-- funny: long (nullable = true)\n",
      " |-- name: string (nullable = true)\n",
      " |-- review_count: long (nullable = true)\n",
      " |-- useful: long (nullable = true)\n",
      " |-- user_id: string (nullable = true)\n",
      " |-- yelping_since: string (nullable = true)"
     ]
    }
   ],
   "source": [
    "# get an overview of dataset and show schema\n",
    "print(f'Total Columns: {len(df_user.dtypes)}')\n",
    "print(f'Total Rows: {df_user.count():,}')\n",
    "df_user.printSchema()"
   ]
  },
  {
   "cell_type": "code",
   "execution_count": 27,
   "metadata": {},
   "outputs": [
    {
     "data": {
      "application/vnd.jupyter.widget-view+json": {
       "model_id": "4dbf8a6359614a76830ddef1d5699a7b",
       "version_major": 2,
       "version_minor": 0
      },
      "text/plain": [
       "VBox()"
      ]
     },
     "metadata": {},
     "output_type": "display_data"
    },
    {
     "data": {
      "application/vnd.jupyter.widget-view+json": {
       "model_id": "",
       "version_major": 2,
       "version_minor": 0
      },
      "text/plain": [
       "FloatProgress(value=0.0, bar_style='info', description='Progress:', layout=Layout(height='25px', width='50%'),…"
      ]
     },
     "metadata": {},
     "output_type": "display_data"
    },
    {
     "name": "stdout",
     "output_type": "stream",
     "text": [
      "root\n",
      " |-- business_id: string (nullable = true)\n",
      " |-- cool: long (nullable = true)\n",
      " |-- date: string (nullable = true)\n",
      " |-- funny: long (nullable = true)\n",
      " |-- review_id: string (nullable = true)\n",
      " |-- stars: double (nullable = true)\n",
      " |-- text: string (nullable = true)\n",
      " |-- useful: long (nullable = true)\n",
      " |-- user_id: string (nullable = true)"
     ]
    }
   ],
   "source": [
    "# show review schema to look for key \n",
    "df_rv.printSchema()"
   ]
  },
  {
   "cell_type": "code",
   "execution_count": 28,
   "metadata": {},
   "outputs": [
    {
     "data": {
      "application/vnd.jupyter.widget-view+json": {
       "model_id": "94fd31ec1cd8436e84861473efa217fd",
       "version_major": 2,
       "version_minor": 0
      },
      "text/plain": [
       "VBox()"
      ]
     },
     "metadata": {},
     "output_type": "display_data"
    },
    {
     "data": {
      "application/vnd.jupyter.widget-view+json": {
       "model_id": "",
       "version_major": 2,
       "version_minor": 0
      },
      "text/plain": [
       "FloatProgress(value=0.0, bar_style='info', description='Progress:', layout=Layout(height='25px', width='50%'),…"
      ]
     },
     "metadata": {},
     "output_type": "display_data"
    },
    {
     "name": "stdout",
     "output_type": "stream",
     "text": [
      "root\n",
      " |-- address: string (nullable = true)\n",
      " |-- attributes: struct (nullable = true)\n",
      " |    |-- AcceptsInsurance: string (nullable = true)\n",
      " |    |-- AgesAllowed: string (nullable = true)\n",
      " |    |-- Alcohol: string (nullable = true)\n",
      " |    |-- Ambience: string (nullable = true)\n",
      " |    |-- BYOB: string (nullable = true)\n",
      " |    |-- BYOBCorkage: string (nullable = true)\n",
      " |    |-- BestNights: string (nullable = true)\n",
      " |    |-- BikeParking: string (nullable = true)\n",
      " |    |-- BusinessAcceptsBitcoin: string (nullable = true)\n",
      " |    |-- BusinessAcceptsCreditCards: string (nullable = true)\n",
      " |    |-- BusinessParking: string (nullable = true)\n",
      " |    |-- ByAppointmentOnly: string (nullable = true)\n",
      " |    |-- Caters: string (nullable = true)\n",
      " |    |-- CoatCheck: string (nullable = true)\n",
      " |    |-- Corkage: string (nullable = true)\n",
      " |    |-- DietaryRestrictions: string (nullable = true)\n",
      " |    |-- DogsAllowed: string (nullable = true)\n",
      " |    |-- DriveThru: string (nullable = true)\n",
      " |    |-- GoodForDancing: string (nullable = true)\n",
      " |    |-- GoodForKids: string (nullable = true)\n",
      " |    |-- GoodForMeal: string (nullable = true)\n",
      " |    |-- HairSpecializesIn: string (nullable = true)\n",
      " |    |-- HappyHour: string (nullable = true)\n",
      " |    |-- HasTV: string (nullable = true)\n",
      " |    |-- Music: string (nullable = true)\n",
      " |    |-- NoiseLevel: string (nullable = true)\n",
      " |    |-- Open24Hours: string (nullable = true)\n",
      " |    |-- OutdoorSeating: string (nullable = true)\n",
      " |    |-- RestaurantsAttire: string (nullable = true)\n",
      " |    |-- RestaurantsCounterService: string (nullable = true)\n",
      " |    |-- RestaurantsDelivery: string (nullable = true)\n",
      " |    |-- RestaurantsGoodForGroups: string (nullable = true)\n",
      " |    |-- RestaurantsPriceRange2: string (nullable = true)\n",
      " |    |-- RestaurantsReservations: string (nullable = true)\n",
      " |    |-- RestaurantsTableService: string (nullable = true)\n",
      " |    |-- RestaurantsTakeOut: string (nullable = true)\n",
      " |    |-- Smoking: string (nullable = true)\n",
      " |    |-- WheelchairAccessible: string (nullable = true)\n",
      " |    |-- WiFi: string (nullable = true)\n",
      " |-- business_id: string (nullable = true)\n",
      " |-- categories: string (nullable = true)\n",
      " |-- city: string (nullable = true)\n",
      " |-- hours: struct (nullable = true)\n",
      " |    |-- Friday: string (nullable = true)\n",
      " |    |-- Monday: string (nullable = true)\n",
      " |    |-- Saturday: string (nullable = true)\n",
      " |    |-- Sunday: string (nullable = true)\n",
      " |    |-- Thursday: string (nullable = true)\n",
      " |    |-- Tuesday: string (nullable = true)\n",
      " |    |-- Wednesday: string (nullable = true)\n",
      " |-- is_open: long (nullable = true)\n",
      " |-- latitude: double (nullable = true)\n",
      " |-- longitude: double (nullable = true)\n",
      " |-- name: string (nullable = true)\n",
      " |-- postal_code: string (nullable = true)\n",
      " |-- review_count: long (nullable = true)\n",
      " |-- stars: double (nullable = true)\n",
      " |-- state: string (nullable = true)"
     ]
    }
   ],
   "source": [
    "# # show business schema to look for key \n",
    "df_bus.printSchema()"
   ]
  },
  {
   "cell_type": "code",
   "execution_count": 29,
   "metadata": {},
   "outputs": [
    {
     "data": {
      "application/vnd.jupyter.widget-view+json": {
       "model_id": "3f309f52756e438085f2395dc7a442b2",
       "version_major": 2,
       "version_minor": 0
      },
      "text/plain": [
       "VBox()"
      ]
     },
     "metadata": {},
     "output_type": "display_data"
    },
    {
     "data": {
      "application/vnd.jupyter.widget-view+json": {
       "model_id": "",
       "version_major": 2,
       "version_minor": 0
      },
      "text/plain": [
       "FloatProgress(value=0.0, bar_style='info', description='Progress:', layout=Layout(height='25px', width='50%'),…"
      ]
     },
     "metadata": {},
     "output_type": "display_data"
    }
   ],
   "source": [
    "# create review table\n",
    "df_rv.createOrReplaceTempView(\"review\")"
   ]
  },
  {
   "cell_type": "code",
   "execution_count": 30,
   "metadata": {},
   "outputs": [
    {
     "data": {
      "application/vnd.jupyter.widget-view+json": {
       "model_id": "cc9f46eaabf14e768af516c3efdc34a6",
       "version_major": 2,
       "version_minor": 0
      },
      "text/plain": [
       "VBox()"
      ]
     },
     "metadata": {},
     "output_type": "display_data"
    },
    {
     "data": {
      "application/vnd.jupyter.widget-view+json": {
       "model_id": "",
       "version_major": 2,
       "version_minor": 0
      },
      "text/plain": [
       "FloatProgress(value=0.0, bar_style='info', description='Progress:', layout=Layout(height='25px', width='50%'),…"
      ]
     },
     "metadata": {},
     "output_type": "display_data"
    }
   ],
   "source": [
    "# create business table\n",
    "df_user.createOrReplaceTempView(\"user\")"
   ]
  },
  {
   "cell_type": "markdown",
   "metadata": {},
   "source": [
    "Testing to see the user data is run"
   ]
  },
  {
   "cell_type": "code",
   "execution_count": 31,
   "metadata": {},
   "outputs": [
    {
     "data": {
      "application/vnd.jupyter.widget-view+json": {
       "model_id": "3596a52add7c4312a20a9261ca7c42dd",
       "version_major": 2,
       "version_minor": 0
      },
      "text/plain": [
       "VBox()"
      ]
     },
     "metadata": {},
     "output_type": "display_data"
    },
    {
     "data": {
      "application/vnd.jupyter.widget-view+json": {
       "model_id": "",
       "version_major": 2,
       "version_minor": 0
      },
      "text/plain": [
       "FloatProgress(value=0.0, bar_style='info', description='Progress:', layout=Layout(height='25px', width='50%'),…"
      ]
     },
     "metadata": {},
     "output_type": "display_data"
    },
    {
     "name": "stdout",
     "output_type": "stream",
     "text": [
      "+--------------------+-------------+------+--------------------+-------------------+\n",
      "|             user_id|average_stars|useful|               elite|      yelping_since|\n",
      "+--------------------+-------------+------+--------------------+-------------------+\n",
      "|ntlvfPzc8eglqvk92...|         3.57|   628|                    |2007-07-06 03:27:11|\n",
      "|FOBRPlBHa3WPHFB5q...|         3.84|   790|2008,2009,2010,20...|2008-04-28 01:29:25|\n",
      "|zZUnPeh2hEp0WydbA...|         3.44|   151|                2010|2008-08-28 23:40:05|\n",
      "|QaELAmRcDc5TfJEyl...|         3.08|   233|                2009|2008-09-20 00:08:14|\n",
      "|xvu8G900tezTzbbfq...|         4.37|  1265|2009,2010,2011,20...|2008-08-09 00:30:27|\n",
      "|z5_82komKV3mI4ASG...|         2.88|   642|                2007|2007-02-27 07:09:40|\n",
      "|ttumcu6hWshk_EJVW...|          4.0|    29|                    |2010-05-12 16:30:08|\n",
      "|f4_MRNHvN-yRn7EA8...|         3.63|  4127|2011,2012,2013,20...|2011-01-17 00:18:23|\n",
      "|UYACF30806j2mfbB5...|         3.75|    68|                    |2007-07-24 23:55:21|\n",
      "|QG13XBbgHWydzThRB...|          4.1|   587|           2008,2009|2007-06-04 00:14:10|\n",
      "+--------------------+-------------+------+--------------------+-------------------+\n",
      "only showing top 10 rows"
     ]
    }
   ],
   "source": [
    "test = spark.sql(\n",
    "'''\n",
    "SELECT user_id, average_stars, useful, elite, yelping_since\n",
    "FROM user\n",
    "''')\n",
    "test.show(10)"
   ]
  },
  {
   "cell_type": "markdown",
   "metadata": {},
   "source": [
    "# Comparing Elite's and Non-Elite's Users Average Starts Rating\n",
    "\n",
    "We want to know how off for users to give stars to stores compared to their overall average starts rating.\n",
    "\n",
    "We first will split the user groups into Elite and Non-Elite groups."
   ]
  },
  {
   "cell_type": "code",
   "execution_count": 32,
   "metadata": {},
   "outputs": [
    {
     "data": {
      "application/vnd.jupyter.widget-view+json": {
       "model_id": "51ecb0061a6e4d5fab22a8e1851edc2b",
       "version_major": 2,
       "version_minor": 0
      },
      "text/plain": [
       "VBox()"
      ]
     },
     "metadata": {},
     "output_type": "display_data"
    },
    {
     "data": {
      "application/vnd.jupyter.widget-view+json": {
       "model_id": "",
       "version_major": 2,
       "version_minor": 0
      },
      "text/plain": [
       "FloatProgress(value=0.0, bar_style='info', description='Progress:', layout=Layout(height='25px', width='50%'),…"
      ]
     },
     "metadata": {},
     "output_type": "display_data"
    },
    {
     "name": "stdout",
     "output_type": "stream",
     "text": [
      "+--------------------+-------------+\n",
      "|             user_id|average_stars|\n",
      "+--------------------+-------------+\n",
      "|ntlvfPzc8eglqvk92...|         3.57|\n",
      "|ttumcu6hWshk_EJVW...|          4.0|\n",
      "|UYACF30806j2mfbB5...|         3.75|\n",
      "|f6YuZP6iennHFVlnF...|          3.8|\n",
      "|HwPGLzF_uXB3MF8bc...|          4.5|\n",
      "|y4UuVowA9i3zj2hHy...|         4.17|\n",
      "|6bbHSJ0PrgSxh7e5n...|         2.21|\n",
      "|pVU2DdtBFppBAX5G5...|         3.79|\n",
      "|q6QdLxYENKbVSo29E...|         2.61|\n",
      "|cWw606W2PmcjTZrwL...|         2.64|\n",
      "+--------------------+-------------+\n",
      "only showing top 10 rows"
     ]
    }
   ],
   "source": [
    "# split non-elite group from dataset\n",
    "elite_not = spark.sql(\n",
    "'''\n",
    "SELECT  user_id, average_stars\n",
    "FROM user\n",
    "WHERE elite LIKE ''\n",
    "''')\n",
    "elite_not.show(10)\n",
    "elite_not.createOrReplaceTempView(\"elite_not\")"
   ]
  },
  {
   "cell_type": "code",
   "execution_count": 33,
   "metadata": {},
   "outputs": [
    {
     "data": {
      "application/vnd.jupyter.widget-view+json": {
       "model_id": "0eef781f6939489cbef7ab36d34373ea",
       "version_major": 2,
       "version_minor": 0
      },
      "text/plain": [
       "VBox()"
      ]
     },
     "metadata": {},
     "output_type": "display_data"
    },
    {
     "data": {
      "application/vnd.jupyter.widget-view+json": {
       "model_id": "",
       "version_major": 2,
       "version_minor": 0
      },
      "text/plain": [
       "FloatProgress(value=0.0, bar_style='info', description='Progress:', layout=Layout(height='25px', width='50%'),…"
      ]
     },
     "metadata": {},
     "output_type": "display_data"
    },
    {
     "name": "stdout",
     "output_type": "stream",
     "text": [
      "+--------------------+-------------+\n",
      "|             user_id|average_stars|\n",
      "+--------------------+-------------+\n",
      "|FOBRPlBHa3WPHFB5q...|         3.84|\n",
      "|zZUnPeh2hEp0WydbA...|         3.44|\n",
      "|QaELAmRcDc5TfJEyl...|         3.08|\n",
      "|xvu8G900tezTzbbfq...|         4.37|\n",
      "|z5_82komKV3mI4ASG...|         2.88|\n",
      "|f4_MRNHvN-yRn7EA8...|         3.63|\n",
      "|QG13XBbgHWydzThRB...|          4.1|\n",
      "|I_6wY8_RsewziNnKh...|         3.63|\n",
      "|q-v8elVPvKz0KvK69...|         3.37|\n",
      "|1WBxJ2r3A2QYfRSEz...|         3.82|\n",
      "+--------------------+-------------+\n",
      "only showing top 10 rows"
     ]
    }
   ],
   "source": [
    "# split elite group from dataset\n",
    "elite_only = spark.sql(\n",
    "'''\n",
    "SELECT user_id, average_stars \n",
    "FROM user\n",
    "WHERE elite NOT LIKE  ''\n",
    "''')\n",
    "elite_only.show(10)\n",
    "elite_only.createOrReplaceTempView(\"elite_only\")"
   ]
  },
  {
   "cell_type": "markdown",
   "metadata": {},
   "source": [
    "# Joining Tables of Business and Review Datasets\n",
    "\n",
    "We will use non-elite's average stars to copare inidividual review stars base on unique business name.\n",
    "\n",
    "    [non-elite users' average stars] - [each single reviews stars for unique business name] = difference\n",
    "    [elite users' average stars] - [each single reviews stars for unique business name] = E_difference\n",
    "\n",
    "For example, if you average stars is 2.5, but you give a business store for 5.0, you are off by +2.5.\n",
    "\n",
    "By doing this we have see how off the overall percetange is."
   ]
  },
  {
   "cell_type": "code",
   "execution_count": 35,
   "metadata": {},
   "outputs": [
    {
     "data": {
      "application/vnd.jupyter.widget-view+json": {
       "model_id": "a37406f0bd9346ed8608c3692390878b",
       "version_major": 2,
       "version_minor": 0
      },
      "text/plain": [
       "VBox()"
      ]
     },
     "metadata": {},
     "output_type": "display_data"
    },
    {
     "data": {
      "application/vnd.jupyter.widget-view+json": {
       "model_id": "",
       "version_major": 2,
       "version_minor": 0
      },
      "text/plain": [
       "FloatProgress(value=0.0, bar_style='info', description='Progress:', layout=Layout(height='25px', width='50%'),…"
      ]
     },
     "metadata": {},
     "output_type": "display_data"
    },
    {
     "name": "stdout",
     "output_type": "stream",
     "text": [
      "+--------------------+--------------------+\n",
      "|                name|          difference|\n",
      "+--------------------+--------------------+\n",
      "|    The Farish House|-0.41000000000000014|\n",
      "|       China Poblano|  0.3200000000000003|\n",
      "|Chaya Japanese Cu...| -0.8700000000000001|\n",
      "|   Lifetime Eye Care|                -1.0|\n",
      "|    Top of the World|                2.87|\n",
      "+--------------------+--------------------+\n",
      "only showing top 5 rows"
     ]
    }
   ],
   "source": [
    "# joining non-elite table using user_id connect to review table\n",
    "# joining review table using business_id connect to the business table\n",
    "# return a dataset with the unique business name and its star differences base on non-elite useravg_nonE = spark.sql\n",
    "avg_nonE = spark.sql(\n",
    "'''\n",
    "SELECT DISTINCT bus.name,(elite_not.average_stars - review.stars) AS difference\n",
    "FROM review\n",
    "INNER JOIN elite_not ON elite_not.user_id = review.user_id\n",
    "INNER JOIN bus ON bus.business_id = review.business_id\n",
    "''')\n",
    "avg_nonE.show(5)"
   ]
  },
  {
   "cell_type": "code",
   "execution_count": 38,
   "metadata": {
    "scrolled": true
   },
   "outputs": [
    {
     "data": {
      "application/vnd.jupyter.widget-view+json": {
       "model_id": "87d6560a0d0d48b9b23507fc00c06e88",
       "version_major": 2,
       "version_minor": 0
      },
      "text/plain": [
       "VBox()"
      ]
     },
     "metadata": {},
     "output_type": "display_data"
    },
    {
     "data": {
      "application/vnd.jupyter.widget-view+json": {
       "model_id": "",
       "version_major": 2,
       "version_minor": 0
      },
      "text/plain": [
       "FloatProgress(value=0.0, bar_style='info', description='Progress:', layout=Layout(height='25px', width='50%'),…"
      ]
     },
     "metadata": {},
     "output_type": "display_data"
    },
    {
     "name": "stdout",
     "output_type": "stream",
     "text": [
      "+--------------------+-------------------+\n",
      "|                name|       E_difference|\n",
      "+--------------------+-------------------+\n",
      "|    Eden's Grill Inn|              -0.79|\n",
      "| Gordon Ramsay BurGR|              -0.79|\n",
      "|              Satara|0.20999999999999996|\n",
      "|            Javier's| 0.9199999999999999|\n",
      "|Citizens Kitchen ...|               2.45|\n",
      "+--------------------+-------------------+\n",
      "only showing top 5 rows"
     ]
    }
   ],
   "source": [
    "# joining elite table using user_id connect to review table\n",
    "# joining review table using business_id connect to the business table\n",
    "# return a dataset with the unique business name and its star differences base on elite useravg_nonE = spark.sql\n",
    "avg_E = spark.sql(\n",
    "'''\n",
    "SELECT DISTINCT bus.name, (elite_only.average_stars - review.stars) AS E_difference\n",
    "FROM review\n",
    "INNER JOIN elite_only ON elite_only.user_id = review.user_id\n",
    "INNER JOIN bus ON bus.business_id = review.business_id\n",
    "''')\n",
    "avg_E.show(5)"
   ]
  },
  {
   "cell_type": "markdown",
   "metadata": {},
   "source": [
    "Convert to Pandas"
   ]
  },
  {
   "cell_type": "code",
   "execution_count": 39,
   "metadata": {},
   "outputs": [
    {
     "data": {
      "application/vnd.jupyter.widget-view+json": {
       "model_id": "1517d4b36e0f48de81b2483c4f1f8e3f",
       "version_major": 2,
       "version_minor": 0
      },
      "text/plain": [
       "VBox()"
      ]
     },
     "metadata": {},
     "output_type": "display_data"
    },
    {
     "data": {
      "application/vnd.jupyter.widget-view+json": {
       "model_id": "",
       "version_major": 2,
       "version_minor": 0
      },
      "text/plain": [
       "FloatProgress(value=0.0, bar_style='info', description='Progress:', layout=Layout(height='25px', width='50%'),…"
      ]
     },
     "metadata": {},
     "output_type": "display_data"
    }
   ],
   "source": [
    "avg_nonE_pd = avg_nonE.toPandas()"
   ]
  },
  {
   "cell_type": "code",
   "execution_count": 40,
   "metadata": {},
   "outputs": [
    {
     "data": {
      "application/vnd.jupyter.widget-view+json": {
       "model_id": "61687fdc97ae46a589a6086ee5880174",
       "version_major": 2,
       "version_minor": 0
      },
      "text/plain": [
       "VBox()"
      ]
     },
     "metadata": {},
     "output_type": "display_data"
    },
    {
     "data": {
      "application/vnd.jupyter.widget-view+json": {
       "model_id": "",
       "version_major": 2,
       "version_minor": 0
      },
      "text/plain": [
       "FloatProgress(value=0.0, bar_style='info', description='Progress:', layout=Layout(height='25px', width='50%'),…"
      ]
     },
     "metadata": {},
     "output_type": "display_data"
    }
   ],
   "source": [
    "avg_E_pd = avg_E.toPandas()"
   ]
  },
  {
   "cell_type": "code",
   "execution_count": 41,
   "metadata": {},
   "outputs": [
    {
     "data": {
      "application/vnd.jupyter.widget-view+json": {
       "model_id": "684e7b8791684c479b359020be8851c7",
       "version_major": 2,
       "version_minor": 0
      },
      "text/plain": [
       "VBox()"
      ]
     },
     "metadata": {},
     "output_type": "display_data"
    },
    {
     "data": {
      "application/vnd.jupyter.widget-view+json": {
       "model_id": "",
       "version_major": 2,
       "version_minor": 0
      },
      "text/plain": [
       "FloatProgress(value=0.0, bar_style='info', description='Progress:', layout=Layout(height='25px', width='50%'),…"
      ]
     },
     "metadata": {},
     "output_type": "display_data"
    },
    {
     "data": {
      "image/png": "[encoded data removed]",
      "text/plain": [
       "<IPython.core.display.Image object>"
      ]
     },
     "metadata": {},
     "output_type": "display_data"
    }
   ],
   "source": [
    "# non-elite user plot\n",
    "plt.figure(figsize=(20,10))\n",
    "sns.distplot(avg_nonE_pd['difference'], \n",
    "            hist=True, \n",
    "            kde=True, \n",
    "            bins=50, \n",
    "            color = 'lightsteelblue',\n",
    "            kde_kws={'linewidth':1})\n",
    "plt.title('Distribution of Non-Elite Stars Difference', fontsize=20)\n",
    "plt.xlabel('Difference')\n",
    "%matplot notebook\n",
    "%matplot plt"
   ]
  },
  {
   "cell_type": "code",
   "execution_count": 42,
   "metadata": {},
   "outputs": [
    {
     "data": {
      "application/vnd.jupyter.widget-view+json": {
       "model_id": "2c71e98fcb3b4bd0bd0346016be5b4fd",
       "version_major": 2,
       "version_minor": 0
      },
      "text/plain": [
       "VBox()"
      ]
     },
     "metadata": {},
     "output_type": "display_data"
    },
    {
     "data": {
      "application/vnd.jupyter.widget-view+json": {
       "model_id": "",
       "version_major": 2,
       "version_minor": 0
      },
      "text/plain": [
       "FloatProgress(value=0.0, bar_style='info', description='Progress:', layout=Layout(height='25px', width='50%'),…"
      ]
     },
     "metadata": {},
     "output_type": "display_data"
    },
    {
     "data": {
      "image/png": "[encoded data removed]",
      "text/plain": [
       "<IPython.core.display.Image object>"
      ]
     },
     "metadata": {},
     "output_type": "display_data"
    }
   ],
   "source": [
    "# elite user plot\n",
    "plt.figure(figsize=(20,10))\n",
    "sns.distplot(avg_E_pd['E_difference'], \n",
    "            hist=True, \n",
    "            kde=True, \n",
    "            bins=50, \n",
    "            color = 'lightsteelblue',\n",
    "            kde_kws={'linewidth':1})\n",
    "plt.title('Distribution of Elite Stars Difference', fontsize=20)\n",
    "plt.xlabel('Difference')\n",
    "%matplot notebook\n",
    "%matplot plt"
   ]
  },
  {
   "cell_type": "code",
   "execution_count": 43,
   "metadata": {},
   "outputs": [
    {
     "data": {
      "application/vnd.jupyter.widget-view+json": {
       "model_id": "255f6d5164ce4d68a974c80772946e51",
       "version_major": 2,
       "version_minor": 0
      },
      "text/plain": [
       "VBox()"
      ]
     },
     "metadata": {},
     "output_type": "display_data"
    },
    {
     "data": {
      "application/vnd.jupyter.widget-view+json": {
       "model_id": "",
       "version_major": 2,
       "version_minor": 0
      },
      "text/plain": [
       "FloatProgress(value=0.0, bar_style='info', description='Progress:', layout=Layout(height='25px', width='50%'),…"
      ]
     },
     "metadata": {},
     "output_type": "display_data"
    },
    {
     "data": {
      "image/png": "[encoded data removed]",
      "text/plain": [
       "<IPython.core.display.Image object>"
      ]
     },
     "metadata": {},
     "output_type": "display_data"
    }
   ],
   "source": [
    "# overlapping to make the comparison\n",
    "sns.distplot(avg_nonE_pd['difference'], color='skyblue', label=\"Non-Elite\")\n",
    "sns.distplot(avg_E_pd['E_difference'], color='lightsteelblue', label=\"Elite\")\n",
    "plt.title('Elite Stars Difference VS Non-Elite Stars Difference', fontsize=20)\n",
    "plt.xlabel('Stars Rating Difference')\n",
    "plt.legend(loc='upper right')\n",
    "%matplot plt"
   ]
  },
  {
   "cell_type": "markdown",
   "metadata": {},
   "source": [
    "# Conclusion \n",
    "\n",
    "By percentage, non-elite users tend to give higher stars compare to the elite user. Elite users tend to be more cautious while giving stars to a business store in both positive and negative ways. \n",
    "\n",
    "If the difference is not huge, we should see data points are close to the 0, that means elite users won't have high fluctuation in giving stars. However, non-elite users seem to be having higher fluctuation, which we can see that both positive and negative ways the difference is huge. Overall, base on current distribution, we can trust the elite users, but we need further analysis to confirm this conclusion is correct."
   ]
  }
 ],
 "metadata": {
  "kernelspec": {
   "display_name": "PySpark",
   "language": "",
   "name": "pysparkkernel"
  },
  "language_info": {
   "codemirror_mode": {
    "name": "python",
    "version": 2
   },
   "mimetype": "text/x-python",
   "name": "pyspark",
   "pygments_lexer": "python2"
  }
 },
 "nbformat": 4,
 "nbformat_minor": 4
}
